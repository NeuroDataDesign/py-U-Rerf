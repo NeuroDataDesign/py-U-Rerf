{
 "cells": [
  {
   "cell_type": "markdown",
   "metadata": {},
   "source": [
    "# Add Info to JSON Files\n",
    "## Authors: Ganesh Arvapalli and Patrick Myers\n",
    "\n",
    "This file loads in a JSON file and the corresponding nifti image. Important information about the image is added to the JSON file"
   ]
  },
  {
   "cell_type": "code",
   "execution_count": 2,
   "metadata": {},
   "outputs": [],
   "source": [
    "from os import listdir\n",
    "from os.path import isfile, join\n",
    "import numpy as np\n",
    "from nibabel.testing import data_path\n",
    "import nibabel as nib\n",
    "import json\n",
    "import pdb"
   ]
  },
  {
   "cell_type": "markdown",
   "metadata": {},
   "source": [
    "## Adds the size of each parcel in an atlas to that JSON file\n",
    "\n",
    "Flattens the nifti image into a 1D array. Then puts the data into a 2D list where each row, i, contains the locations of the voxels in the ith parcel. The size of each of these lists is calculated. This information is added to the corresponding key in the JSON file"
   ]
  },
  {
   "cell_type": "code",
   "execution_count": 16,
   "metadata": {},
   "outputs": [],
   "source": [
    "def Size_JSON(json_file, nifti_file, outname):    \n",
    "    img = nib.load(nifti_file)\n",
    "    img_data = img.get_fdata()\n",
    "    img_flat = img_data.flatten()\n",
    "    img_flat.tolist()\n",
    "    img_flat = [int(i) for i in img_flat]\n",
    "    values = np.unique(img_flat)\n",
    "    counts = np.array(range(1, len(img_flat)+1))\n",
    "    counts = [int(i) for i in counts]\n",
    "    img_flatten = list(zip(img_flat, counts))\n",
    "    img_flatten = sorted(img_flatten, key = lambda l:l[0])\n",
    "\n",
    "    img_cell = [[] for i in range(len(values))]\n",
    "    start = 0\n",
    "    for i in range(0,len(values)):\n",
    "        img_list = [x[0] for x in img_flatten]\n",
    "        end = max(loc for loc, val in enumerate(img_list) if val == values[i])\n",
    "        for j in range(start,end):\n",
    "            img_cell[i].append(img_flatten[j][1])  \n",
    "        start = end+1\n",
    "    \n",
    "    with open(json_file) as f:\n",
    "        data = json.load(f)\n",
    "    \n",
    "    for i in range(0,len(values)):\n",
    "        data[str(i)][\"size\"] = str(len(img_cell[i]))+' voxels'\n",
    "    \n",
    "    with open(outname, 'w') as f:\n",
    "        json.dump(data, f, indent=4, sort_keys=True)\n"
   ]
  },
  {
   "cell_type": "markdown",
   "metadata": {},
   "source": [
    "### Run for every JSON/Nifti pair\n",
    "\n",
    "Not every Nifti file has a corresponding JSON pair, so the JSON files were used as the key in the search for the corresponding Nifti file. Specifies the output JSON to a new folder to not get confused."
   ]
  },
  {
   "cell_type": "code",
   "execution_count": 21,
   "metadata": {
    "collapsed": true
   },
   "outputs": [
    {
     "name": "stdout",
     "output_type": "stream",
     "text": [
      "../JSON_files/DKT_space-MNI152NLin6_res-1x1x1.json\n",
      "../JSON_files/CPAC200_space-MNI152NLin6_res-1x1x1.json\n",
      "../JSON_files/JHU_space-MNI152NLin6_res-1x1x1.json\n"
     ]
    }
   ],
   "source": [
    "JSON_files = listdir('../JSON_files')\n",
    "files = [f.split('.')[0] for f in JSON_files]\n",
    "files = [i for i in files if not i.startswith(\"DS\")]\n",
    "JSON_path = '../JSON_files/'\n",
    "JSON_extension = '.json'\n",
    "Nifti_path = '../Nifti_images/'\n",
    "Nifti_extension = '.nii.gz'\n",
    "outfile_path = '../Updated_JSON_files/'\n",
    "\n",
    "for file in files:\n",
    "    json_file = JSON_path+file+JSON_extension\n",
    "    print(json_file)\n",
    "    nifti_file = Nifti_path+file+Nifti_extension\n",
    "    outfile = outfile_path+file+'_updated'+JSON_extension\n",
    "    Size_JSON(json_file,nifti_file,outfile)\n",
    "\n",
    "\n"
   ]
  }
 ],
 "metadata": {
  "kernelspec": {
   "display_name": "Python 3",
   "language": "python",
   "name": "python3"
  },
  "language_info": {
   "codemirror_mode": {
    "name": "ipython",
    "version": 3
   },
   "file_extension": ".py",
   "mimetype": "text/x-python",
   "name": "python",
   "nbconvert_exporter": "python",
   "pygments_lexer": "ipython3",
   "version": "3.5.2"
  }
 },
 "nbformat": 4,
 "nbformat_minor": 2
}

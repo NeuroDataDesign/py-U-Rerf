{
 "cells": [
  {
   "cell_type": "markdown",
   "metadata": {},
   "source": [
    "# Add Info to JSON Files\n",
    "## Authors: Ganesh Arvapalli and Patrick Myers\n",
    "\n",
    "This file loads in a JSON file and the corresponding nifti image. Important information about the image is added to the JSON file"
   ]
  },
  {
   "cell_type": "code",
   "execution_count": 1,
   "metadata": {},
   "outputs": [],
   "source": [
    "import os\n",
    "from os.path import isfile, join\n",
    "import numpy as np\n",
    "from nibabel.testing import data_path\n",
    "import nibabel as nib\n",
    "import json\n",
    "import pdb\n",
    "import glob\n",
    "from nilearn import plotting as nip\n",
    "from nilearn import image"
   ]
  },
  {
   "cell_type": "markdown",
   "metadata": {},
   "source": [
    "## Adds the size of each parcel in an atlas to that JSON file\n",
    "\n",
    "Flattens the nifti image into a 1D array. Then puts the data into a 2D list where each row, i, contains the locations of the voxels in the ith parcel. The size of each of these lists is calculated. This information is added to the corresponding key in the JSON file"
   ]
  },
  {
   "cell_type": "code",
   "execution_count": 2,
   "metadata": {},
   "outputs": [],
   "source": [
    "def Size_JSON(json_file, nifti_file, outname):    \n",
    "    img = nib.load(nifti_file)\n",
    "    img_data = img.get_fdata()\n",
    "    img_flat = img_data.flatten()\n",
    "    img_flat.tolist()\n",
    "    img_flat = [int(i) for i in img_flat]\n",
    "    values = np.unique(img_flat)\n",
    "    counts = np.array(range(1, len(img_flat)+1))\n",
    "    counts = [int(i) for i in counts]\n",
    "    img_flatten = list(zip(img_flat, counts))\n",
    "    img_flatten = sorted(img_flatten, key = lambda l:l[0])\n",
    "\n",
    "    img_cell = [[] for i in range(len(values))]\n",
    "    start = 0\n",
    "    for i in range(0,len(values)):\n",
    "        img_list = [x[0] for x in img_flatten]\n",
    "        end = max(loc for loc, val in enumerate(img_list) if val == values[i])\n",
    "        for j in range(start,end):\n",
    "            img_cell[i].append(img_flatten[j][1])  \n",
    "        start = end+1\n",
    "    \n",
    "    with open(json_file) as f:\n",
    "        data = json.load(f)\n",
    "    \n",
    "    for i in range(0,len(values)):\n",
    "        data[str(i)][\"size\"] = str(len(img_cell[i]))\n",
    "    \n",
    "    with open(outname, 'w') as f:\n",
    "        json.dump(data, f, indent=4, sort_keys=True)\n"
   ]
  },
  {
   "cell_type": "markdown",
   "metadata": {},
   "source": [
    "### Run for every JSON/Nifti pair\n",
    "\n",
    "Not every Nifti file has a corresponding JSON pair, so the JSON files were used as the key in the search for the corresponding Nifti file. Specifies the output JSON to a new folder to not get confused."
   ]
  },
  {
   "cell_type": "code",
   "execution_count": 16,
   "metadata": {},
   "outputs": [
    {
     "data": {
      "text/plain": [
       "['aal_space-MNI152NLin6_res-1x1x1',\n",
       " 'brodmann_space-MNI152NLin6_res-1x1x1',\n",
       " 'CPAC200_space-MNI152NLin6_res-1x1x1',\n",
       " 'desikan_space-MNI152NLin6_res-1x1x1',\n",
       " 'DKT_space-MNI152NLin6_res-1x1x1',\n",
       " 'glasser_space-MNI152NLin6_res-1x1x1',\n",
       " 'HarvardOxfordcort-maxprob-thr25_space-MNI152NLin6_res-1x1x1',\n",
       " 'HarvardOxfordsub-maxprob-thr25_space-MNI152NLin6_res-1x1x1',\n",
       " 'hemispheric_space-MNI152NLin6_res-1x1x1',\n",
       " 'JHU_space-MNI152NLin6_res-1x1x1',\n",
       " 'princetonvisual-top_space-MNI152NLin6_res-1x1x1',\n",
       " 'slab1068_space-MNI152NLin6_res-1x1x1',\n",
       " 'slab907_space-MNI152NLin6_res-1x1x1',\n",
       " 'Talairach_space-MNI152NLin6_res-1x1x1',\n",
       " 'tissue_space-MNI152NLin6_res-1x1x1',\n",
       " 'yeo-17_space-MNI152NLin6_res-1x1x1',\n",
       " 'yeo-7-liberal_space-MNI152NLin6_res-1x1x1',\n",
       " 'yeo-7_space-MNI152NLin6_res-1x1x1']"
      ]
     },
     "execution_count": 16,
     "metadata": {},
     "output_type": "execute_result"
    }
   ],
   "source": [
    "os.chdir('../JSON_files')\n",
    "JSON_files = [f for f in os.listdir('.') if os.path.isfile(f)]\n",
    "files = [f.split('.')[0] for f in JSON_files]\n",
    "files = [i for i in files if not i.startswith(\"DS\")]\n",
    "files"
   ]
  },
  {
   "cell_type": "code",
   "execution_count": 3,
   "metadata": {},
   "outputs": [
    {
     "name": "stdout",
     "output_type": "stream",
     "text": [
      "../JSON_files/aal_space-MNI152NLin6_res-1x1x1.json\n",
      "../JSON_files/brodmann_space-MNI152NLin6_res-1x1x1.json\n",
      "../JSON_files/CPAC200_space-MNI152NLin6_res-1x1x1.json\n",
      "../JSON_files/desikan_space-MNI152NLin6_res-1x1x1.json\n",
      "../JSON_files/DKT_space-MNI152NLin6_res-1x1x1.json\n",
      "../JSON_files/glasser_space-MNI152NLin6_res-1x1x1.json\n",
      "../JSON_files/HarvardOxfordcort-maxprob-thr25_space-MNI152NLin6_res-1x1x1.json\n",
      "../JSON_files/HarvardOxfordsub-maxprob-thr25_space-MNI152NLin6_res-1x1x1.json\n",
      "../JSON_files/hemispheric_space-MNI152NLin6_res-1x1x1.json\n",
      "../JSON_files/JHU_space-MNI152NLin6_res-1x1x1.json\n",
      "../JSON_files/princetonvisual-top_space-MNI152NLin6_res-1x1x1.json\n",
      "../JSON_files/slab1068_space-MNI152NLin6_res-1x1x1.json\n",
      "../JSON_files/slab907_space-MNI152NLin6_res-1x1x1.json\n",
      "../JSON_files/Talairach_space-MNI152NLin6_res-1x1x1.json\n",
      "../JSON_files/tissue_space-MNI152NLin6_res-1x1x1.json\n",
      "../JSON_files/yeo-17_space-MNI152NLin6_res-1x1x1.json\n",
      "../JSON_files/yeo-7-liberal_space-MNI152NLin6_res-1x1x1.json\n",
      "../JSON_files/yeo-7_space-MNI152NLin6_res-1x1x1.json\n"
     ]
    }
   ],
   "source": [
    "os.chdir('../JSON_files')\n",
    "JSON_files = [f for f in os.listdir('.') if os.path.isfile(f)]\n",
    "files = [f.split('.')[0] for f in JSON_files]\n",
    "files = [i for i in files if not i.startswith(\"DS\")]\n",
    "JSON_path = '../JSON_files/'\n",
    "JSON_extension = '.json'\n",
    "Nifti_path = '../Nifti_images/'\n",
    "Nifti_extension = '.nii.gz'\n",
    "outfile_path = '../Updated_JSON_files/'\n",
    "\n",
    "for file in files:\n",
    "    json_file = JSON_path+file+JSON_extension\n",
    "    print(json_file)\n",
    "    nifti_file = Nifti_path+file+Nifti_extension\n",
    "    outfile = outfile_path+file+'_updated'+JSON_extension\n",
    "    Size_JSON(json_file,nifti_file,outfile)\n",
    "\n",
    "\n"
   ]
  },
  {
   "cell_type": "code",
   "execution_count": 19,
   "metadata": {},
   "outputs": [],
   "source": [
    "def get_centers(brain):\n",
    "    \"\"\"\n",
    "    Get coordinate centers given a nifti image loaded with nibabel\n",
    "    \n",
    "    Returns a dictionary of label: coordinate as an [x, y, z] array\n",
    "    \"\"\"\n",
    "    dat = brain.get_data()\n",
    "    labs = np.unique(dat)\n",
    "    labs = labs[labs != 0]\n",
    "    print('here')\n",
    "    fd_dat = np.stack([np.asarray(dat == lab).astype('float64') for lab in labs], axis=3)\n",
    "    print('here2')\n",
    "    parcels = nib.Nifti1Image(dataobj=fd_dat, header=brain.header, affine=brain.affine)\n",
    "    regions_imgs = image.iter_img(parcels)\n",
    "    # compute the centers of mass for each ROI\n",
    "    coords_connectome = [nip.find_xyz_cut_coords(img) for img in regions_imgs]\n",
    "    return dict(zip(labs, coords_connectome)), parcels"
   ]
  },
  {
   "cell_type": "code",
   "execution_count": 18,
   "metadata": {},
   "outputs": [],
   "source": [
    "def main():\n",
    "    labdir = '../Nifti_images/Test'\n",
    "    specparc = ['desikan', 'tissue', 'DK', 'pp264']\n",
    "    #specdir = './label'\n",
    "    jsdir = '../JSON_files/Test'\n",
    "    #outdir = './label/label_updated2'\n",
    "    brainglob = glob.glob(os.path.join(labdir, '*.nii.gz'))\n",
    "    jsonglob = glob.glob(os.path.join(jsdir, '*.json'))\n",
    "    # iterate over the brains\n",
    "    for brainf in brainglob:\n",
    "        # get the name of the particular parcel\n",
    "        brain_name = str.split(os.path.basename(brainf), '.')[0]\n",
    "        bname = str.split(brain_name, '_')[0]\n",
    "        #jsout = os.path.join(outdir, \"{}.json\".format(brain_name))\n",
    "        print(brainf)\n",
    "        parcel_im = nib.load(brainf)\n",
    "        parcel_centers, parcels = get_centers(parcel_im)\n",
    "    return parcel_centers, parcels"
   ]
  },
  {
   "cell_type": "code",
   "execution_count": 21,
   "metadata": {},
   "outputs": [
    {
     "name": "stdout",
     "output_type": "stream",
     "text": [
      "../Nifti_images/Test\\yeo-7_space-MNI152NLin6_res-1x1x1.nii.gz\n",
      "here\n",
      "here2\n"
     ]
    }
   ],
   "source": [
    "centers, parcels = main()"
   ]
  },
  {
   "cell_type": "code",
   "execution_count": 29,
   "metadata": {},
   "outputs": [
    {
     "data": {
      "text/plain": [
       "['ImageArrayProxy',\n",
       " 'ImageSlicer',\n",
       " '__class__',\n",
       " '__delattr__',\n",
       " '__dict__',\n",
       " '__dir__',\n",
       " '__doc__',\n",
       " '__eq__',\n",
       " '__format__',\n",
       " '__ge__',\n",
       " '__getattribute__',\n",
       " '__getitem__',\n",
       " '__gt__',\n",
       " '__hash__',\n",
       " '__init__',\n",
       " '__init_subclass__',\n",
       " '__le__',\n",
       " '__lt__',\n",
       " '__module__',\n",
       " '__ne__',\n",
       " '__new__',\n",
       " '__reduce__',\n",
       " '__reduce_ex__',\n",
       " '__repr__',\n",
       " '__setattr__',\n",
       " '__sizeof__',\n",
       " '__str__',\n",
       " '__subclasshook__',\n",
       " '__weakref__',\n",
       " '_affine',\n",
       " '_affine2header',\n",
       " '_compressed_suffixes',\n",
       " '_data',\n",
       " '_data_cache',\n",
       " '_dataobj',\n",
       " '_fdata_cache',\n",
       " '_get_fileholders',\n",
       " '_header',\n",
       " '_meta_sniff_len',\n",
       " '_sniff_meta_for',\n",
       " 'affine',\n",
       " 'as_reoriented',\n",
       " 'dataobj',\n",
       " 'extra',\n",
       " 'file_map',\n",
       " 'files_types',\n",
       " 'filespec_to_file_map',\n",
       " 'filespec_to_files',\n",
       " 'from_file_map',\n",
       " 'from_filename',\n",
       " 'from_files',\n",
       " 'from_image',\n",
       " 'get_affine',\n",
       " 'get_data',\n",
       " 'get_data_dtype',\n",
       " 'get_fdata',\n",
       " 'get_filename',\n",
       " 'get_header',\n",
       " 'get_qform',\n",
       " 'get_sform',\n",
       " 'get_shape',\n",
       " 'header',\n",
       " 'header_class',\n",
       " 'in_memory',\n",
       " 'instance_to_filename',\n",
       " 'load',\n",
       " 'make_file_map',\n",
       " 'makeable',\n",
       " 'ndim',\n",
       " 'orthoview',\n",
       " 'path_maybe_image',\n",
       " 'rw',\n",
       " 'set_data_dtype',\n",
       " 'set_filename',\n",
       " 'set_qform',\n",
       " 'set_sform',\n",
       " 'shape',\n",
       " 'slicer',\n",
       " 'to_file_map',\n",
       " 'to_filename',\n",
       " 'to_files',\n",
       " 'to_filespec',\n",
       " 'uncache',\n",
       " 'update_header',\n",
       " 'valid_exts']"
      ]
     },
     "execution_count": 29,
     "metadata": {},
     "output_type": "execute_result"
    }
   ],
   "source": []
  }
 ],
 "metadata": {
  "kernelspec": {
   "display_name": "Python 3",
   "language": "python",
   "name": "python3"
  },
  "language_info": {
   "codemirror_mode": {
    "name": "ipython",
    "version": 3
   },
   "file_extension": ".py",
   "mimetype": "text/x-python",
   "name": "python",
   "nbconvert_exporter": "python",
   "pygments_lexer": "ipython3",
   "version": "3.7.1"
  }
 },
 "nbformat": 4,
 "nbformat_minor": 2
}

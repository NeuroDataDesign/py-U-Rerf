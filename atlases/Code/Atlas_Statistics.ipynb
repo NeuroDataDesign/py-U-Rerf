{
 "cells": [
  {
   "cell_type": "code",
   "execution_count": 2,
   "metadata": {},
   "outputs": [],
   "source": [
    "from os import listdir\n",
    "from os.path import isfile, join\n",
    "import numpy as np\n",
    "from nibabel.testing import data_path\n",
    "import nibabel as nib\n",
    "from operator import itemgetter\n",
    "import seaborn as sns\n",
    "\n"
   ]
  },
  {
   "cell_type": "code",
   "execution_count": 14,
   "metadata": {},
   "outputs": [],
   "source": [
    "def Dice_Calculator(file1, file2):\n",
    "    img1 = nib.load(file1)\n",
    "    img1_data = img1.get_fdata()\n",
    "    hdr1 = img1.header\n",
    "    img1_flat = img1_data.flatten()\n",
    "    img1_flat = [int(i) for i in img1_flat]\n",
    "\n",
    "    img2 = nib.load(file2)\n",
    "    img2_data = img2.get_fdata()\n",
    "    hdr2 = img2.header\n",
    "    img2_flat = img2_data.flatten()\n",
    "    img2_flat = [int(i) for i in img2_flat]\n",
    "    \n",
    "    values1 = np.unique(img1_flat)\n",
    "    values2 = np.unique(img2_flat)\n",
    "    counts1 = np.array(range(1, len(img1_flat)+1))\n",
    "    counts2 = np.array(range(1, len(img2_flat)+1))\n",
    "    counts1 = [int(i) for i in counts1]\n",
    "    counts2 = [int(i) for i in counts2]\n",
    "\n",
    "    img1_flatten = list(zip(img1_flat, counts1))\n",
    "    img2_flatten = list(zip(img2_flat, counts2))\n",
    "\n",
    "    img1_flatten = sorted(img1_flatten, key = lambda l:l[0])\n",
    "    img2_flatten = sorted(img2_flatten, key = lambda l:l[0])\n",
    "    \n",
    "    img1_cell = [[] for i in range(len(values1))]\n",
    "    img2_cell = [[] for i in range(len(values2))]\n",
    "    start = 0\n",
    "    for i in range(0,len(values1)-1):\n",
    "        img1_list = [x[0] for x in img1_flatten]\n",
    "        end = max(loc for loc, val in enumerate(img1_list) if val == values1[i])\n",
    "        for j in range(start,end):\n",
    "            img1_cell[i].append(img1_flatten[j][1])  \n",
    "        start = end+1\n",
    "\n",
    "    start = 0\n",
    "    for i in range(0,len(values2)-1):\n",
    "        img2_list = [x[0] for x in img2_flatten]\n",
    "        end = max(loc for loc, val in enumerate(img2_list) if val == values2[i])\n",
    "        for j in range(start,end):\n",
    "            img2_cell[i].append(img2_flatten[j][1])  \n",
    "        start = end+1\n",
    "        \n",
    "    Dice_scores = np.zeros((len(values1),len(values2)),dtype=float)\n",
    "    for i in range(0,len(values1)-1):\n",
    "        for j in range(0,len(values2)-1):\n",
    "            sims = len(set(img1_cell[i]) & set(img2_cell[j]))\n",
    "            Dice_scores[i][j] = 2*sims/(len(img1_cell[i])+len(img2_cell[j]))\n",
    "    \n",
    "    mean_Dice = Dice_scores.mean()\n",
    "    return mean_Dice"
   ]
  },
  {
   "cell_type": "code",
   "execution_count": null,
   "metadata": {},
   "outputs": [],
   "source": [
    "mypath = '../Nifti_images'\n",
    "files = [f for f in listdir(mypath) if isfile(join(mypath, f))]\n",
    "Dice_scores = np.zeros((len(files)-1,len(files)-1),dtype=float)\n",
    "\n",
    "for i in range(0,len(files)-2):\n",
    "    for j in range(i,len(files)-1):\n",
    "        image1_name = files[i]\n",
    "        filename1 = join(mypath, image1_name)\n",
    "        image2_name = files[j]\n",
    "        filename2 = join(mypath, image2_name)\n",
    "\n",
    "        Dice_scores[i][j] = Dice_Calculator(filename1, filename2)\n",
    "\n",
    "sns.heatmap(Dice_scores)"
   ]
  },
  {
   "cell_type": "code",
   "execution_count": 16,
   "metadata": {},
   "outputs": [
    {
     "data": {
      "text/plain": [
       "0.008982353023138632"
      ]
     },
     "execution_count": 16,
     "metadata": {},
     "output_type": "execute_result"
    }
   ],
   "source": []
  }
 ],
 "metadata": {
  "kernelspec": {
   "display_name": "Python 3",
   "language": "python",
   "name": "python3"
  },
  "language_info": {
   "codemirror_mode": {
    "name": "ipython",
    "version": 3
   },
   "file_extension": ".py",
   "mimetype": "text/x-python",
   "name": "python",
   "nbconvert_exporter": "python",
   "pygments_lexer": "ipython3",
   "version": "3.5.2"
  }
 },
 "nbformat": 4,
 "nbformat_minor": 2
}

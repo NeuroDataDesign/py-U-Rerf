{
 "cells": [
  {
   "cell_type": "code",
   "execution_count": 11,
   "metadata": {},
   "outputs": [],
   "source": [
    "from os import listdir\n",
    "from os.path import isfile, join\n",
    "import numpy as np\n",
    "from nibabel.testing import data_path\n",
    "import nibabel as nib\n",
    "from operator import itemgetter\n",
    "import seaborn as sns\n",
    "from sklearn.metrics.cluster import adjusted_mutual_info_score\n",
    "import matplotlib.pyplot as plt\n"
   ]
  },
  {
   "cell_type": "code",
   "execution_count": 14,
   "metadata": {},
   "outputs": [],
   "source": [
    "def Dice_Calculator(file1, file2):\n",
    "    img1 = nib.load(file1)\n",
    "    img1_data = img1.get_fdata()\n",
    "    hdr1 = img1.header\n",
    "    img1_flat = img1_data.flatten()\n",
    "    img1_flat = [int(i) for i in img1_flat]\n",
    "\n",
    "    img2 = nib.load(file2)\n",
    "    img2_data = img2.get_fdata()\n",
    "    hdr2 = img2.header\n",
    "    img2_flat = img2_data.flatten()\n",
    "    img2_flat = [int(i) for i in img2_flat]\n",
    "    \n",
    "    values1 = np.unique(img1_flat)\n",
    "    values2 = np.unique(img2_flat)\n",
    "    counts1 = np.array(range(1, len(img1_flat)+1))\n",
    "    counts2 = np.array(range(1, len(img2_flat)+1))\n",
    "    counts1 = [int(i) for i in counts1]\n",
    "    counts2 = [int(i) for i in counts2]\n",
    "\n",
    "    img1_flatten = list(zip(img1_flat, counts1))\n",
    "    img2_flatten = list(zip(img2_flat, counts2))\n",
    "\n",
    "    img1_flatten = sorted(img1_flatten, key = lambda l:l[0])\n",
    "    img2_flatten = sorted(img2_flatten, key = lambda l:l[0])\n",
    "    \n",
    "    img1_cell = [[] for i in range(len(values1))]\n",
    "    img2_cell = [[] for i in range(len(values2))]\n",
    "    start = 0\n",
    "    for i in range(0,len(values1)-1):\n",
    "        img1_list = [x[0] for x in img1_flatten]\n",
    "        end = max(loc for loc, val in enumerate(img1_list) if val == values1[i])\n",
    "        for j in range(start,end):\n",
    "            img1_cell[i].append(img1_flatten[j][1])  \n",
    "        start = end+1\n",
    "\n",
    "    start = 0\n",
    "    for i in range(0,len(values2)-1):\n",
    "        img2_list = [x[0] for x in img2_flatten]\n",
    "        end = max(loc for loc, val in enumerate(img2_list) if val == values2[i])\n",
    "        for j in range(start,end):\n",
    "            img2_cell[i].append(img2_flatten[j][1])  \n",
    "        start = end+1\n",
    "        \n",
    "    Dice_scores = np.zeros((len(values1),len(values2)),dtype=float)\n",
    "    for i in range(0,len(values1)-1):\n",
    "        for j in range(0,len(values2)-1):\n",
    "            sims = len(set(img1_cell[i]) & set(img2_cell[j]))\n",
    "            Dice_scores[i][j] = 2*sims/(len(img1_cell[i])+len(img2_cell[j]))\n",
    "    \n",
    "    mean_Dice = Dice_scores.mean()\n",
    "    return mean_Dice"
   ]
  },
  {
   "cell_type": "code",
   "execution_count": 2,
   "metadata": {},
   "outputs": [],
   "source": [
    "def NMI_Calculator(file1,file2):\n",
    "    img1 = nib.load(filename1)\n",
    "    img1_data = img1.get_fdata()\n",
    "    img1_flat = img1_data.flatten()\n",
    "    img1_flat = img1_flat+1\n",
    "    img1_flat.tolist()\n",
    "    img1_flat = [int(i) for i in img1_flat]\n",
    "\n",
    "    img2 = nib.load(filename2)\n",
    "    img2_data = img2.get_fdata()\n",
    "    img2_flat = img2_data.flatten()\n",
    "    img2_flat = img2_flat+1\n",
    "    img2_flat.tolist()\n",
    "    img2_flat = [int(i) for i in img2_flat]\n",
    "\n",
    "    nmi = adjusted_mutual_info_score(img1_flat, img2_flat)\n",
    "    return nmi\n",
    "    "
   ]
  },
  {
   "cell_type": "code",
   "execution_count": null,
   "metadata": {},
   "outputs": [],
   "source": [
    "mypath = '../Nifti_images'\n",
    "files = [f for f in listdir(mypath) if isfile(join(mypath, f))]\n",
    "[f for f in files if 'DS' not in f]\n",
    "Dice_scores = np.zeros((len(files)-1,len(files)-1),dtype=float)\n",
    "\n",
    "for i in range(0,len(files)-2):\n",
    "    for j in range(i,len(files)-1):\n",
    "        image1_name = files[i]\n",
    "        filename1 = join(mypath, image1_name)\n",
    "        image2_name = files[j]\n",
    "        filename2 = join(mypath, image2_name)\n",
    "\n",
    "        Dice_scores[i][j] = Dice_Calculator(filename1, filename2)\n",
    "\n",
    "sns.heatmap(Dice_scores)"
   ]
  },
  {
   "cell_type": "code",
   "execution_count": null,
   "metadata": {},
   "outputs": [
    {
     "name": "stdout",
     "output_type": "stream",
     "text": [
      "0\n",
      "0\n",
      "0\n",
      "0\n",
      "0\n",
      "0\n",
      "0\n",
      "0\n",
      "0\n",
      "0\n",
      "0\n",
      "0\n",
      "0\n",
      "0\n",
      "0\n",
      "0\n",
      "0\n",
      "0\n",
      "0\n",
      "0\n",
      "0\n",
      "0\n",
      "0\n",
      "1\n",
      "1\n"
     ]
    }
   ],
   "source": [
    "mypath = '../Nifti_images'\n",
    "files = [f for f in listdir(mypath) if isfile(join(mypath, f))]\n",
    "files = [f for f in files if 'DS' not in f]\n",
    "files = [f for f in files if 'glasser' not in f]\n",
    "files = [f for f in files if 'pp264' not in f]\n",
    "NMI_scores = np.zeros((len(files)-1,len(files)-1),dtype=float)\n",
    "\n",
    "for i in range(0,len(files)-2):\n",
    "    for j in range(i,len(files)-1):\n",
    "        image1_name = files[i]\n",
    "        filename1 = join(mypath, image1_name)\n",
    "        image2_name = files[j]\n",
    "        filename2 = join(mypath, image2_name)\n",
    "        print(i)\n",
    "        NMI_scores[i][j] = NMI_Calculator(filename1, filename2)\n",
    "\n",
    "#sns.heatmap(NMI_scores)"
   ]
  },
  {
   "cell_type": "code",
   "execution_count": 36,
   "metadata": {},
   "outputs": [
    {
     "data": {
      "text/plain": [
       "['aal',\n",
       " 'brodmann',\n",
       " 'CPAC200',\n",
       " 'desikan',\n",
       " 'DKT',\n",
       " 'HOC',\n",
       " 'HOS',\n",
       " 'hemispheric',\n",
       " 'Princeton',\n",
       " 'Schaefer-1000',\n",
       " 'Schaefer-200',\n",
       " 'Schaefer-300',\n",
       " 'Schaefer-400',\n",
       " 'Schaefer2018-400-node',\n",
       " 'Schaefer2018',\n",
       " 'Schaefer2018',\n",
       " 'slab1068',\n",
       " 'slab907',\n",
       " 'Talairach',\n",
       " 'tissue',\n",
       " 'yeo-17-liberal',\n",
       " 'yeo-17',\n",
       " 'yeo-7-liberal',\n",
       " 'yeo-7']"
      ]
     },
     "execution_count": 36,
     "metadata": {},
     "output_type": "execute_result"
    }
   ],
   "source": [
    "mypath = '../Nifti_images'\n",
    "files = [f for f in listdir(mypath) if isfile(join(mypath, f))]\n",
    "files = [f for f in files if 'DS' not in f]\n",
    "files = [f for f in files if 'glasser' not in f]\n",
    "files = [f for f in files if 'pp264' not in f]\n",
    "files = [f.split('_')[0] for f in files]\n",
    "files[5] = 'HOC'\n",
    "files[6] = 'HOS'\n",
    "files[8] = 'Princeton'\n",
    "files[9] = 'Schaefer-1000'\n",
    "files[10] = 'Schaefer-200'\n",
    "files[11] = 'Schaefer-300'\n",
    "files[12] = 'Schaefer-400'\n",
    "files"
   ]
  },
  {
   "cell_type": "code",
   "execution_count": 37,
   "metadata": {},
   "outputs": [
    {
     "data": {
      "text/plain": [
       "(array([ 0.5,  2.5,  4.5,  6.5,  8.5, 10.5, 12.5, 14.5, 16.5, 18.5, 20.5,\n",
       "        22.5]), <a list of 12 Text yticklabel objects>)"
      ]
     },
     "execution_count": 37,
     "metadata": {},
     "output_type": "execute_result"
    },
    {
     "data": {
      "image/png": "[encoded data removed]",
      "text/plain": [
       "<Figure size 432x288 with 2 Axes>"
      ]
     },
     "metadata": {},
     "output_type": "display_data"
    }
   ],
   "source": [
    "sns.set(style=\"ticks\", context=\"talk\")\n",
    "fig, ax = plt.subplots()\n",
    "plt.style.use(\"dark_background\")\n",
    "\n",
    "backup = NMI_scores\n",
    "\n",
    "i_lower = np.tril_indices(22, -1)\n",
    "NMI_scores[i_lower] = NMI_scores.T[i_lower]\n",
    "        \n",
    "with sns.axes_style(\"white\"):\n",
    "    ax = sns.heatmap(NMI_scores, square=True)\n",
    "    \n",
    "labels = [item.get_text() for item in ax.get_xticklabels()]\n",
    "labels = files\n",
    "\n",
    "ax.set_xticklabels(labels)\n",
    "ax.set_yticklabels(labels)\n",
    "\n",
    "plt.xticks(rotation=90)\n",
    "plt.yticks(rotation=0)"
   ]
  }
 ],
 "metadata": {
  "kernelspec": {
   "display_name": "Python 3",
   "language": "python",
   "name": "python3"
  },
  "language_info": {
   "codemirror_mode": {
    "name": "ipython",
    "version": 3
   },
   "file_extension": ".py",
   "mimetype": "text/x-python",
   "name": "python",
   "nbconvert_exporter": "python",
   "pygments_lexer": "ipython3",
   "version": "3.6.5"
  }
 },
 "nbformat": 4,
 "nbformat_minor": 2
}

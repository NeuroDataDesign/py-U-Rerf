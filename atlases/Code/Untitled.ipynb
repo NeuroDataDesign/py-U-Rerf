{
 "cells": [
  {
   "cell_type": "code",
   "execution_count": 5,
   "metadata": {},
   "outputs": [],
   "source": [
    "from os import listdir\n",
    "from os.path import isfile, join\n",
    "import numpy as np\n",
    "from nibabel.testing import data_path\n",
    "import nibabel as nib\n",
    "from sklearn.metrics.cluster import normalized_mutual_info_score"
   ]
  },
  {
   "cell_type": "code",
   "execution_count": 2,
   "metadata": {},
   "outputs": [],
   "source": [
    "mypath = '../Nifti_images'\n",
    "files = [f for f in listdir(mypath) if isfile(join(mypath, f))]\n",
    "\n",
    "image1_name = files[0]\n",
    "filename1 = join(mypath, image1_name)\n",
    "img1 = nib.load(filename1)\n",
    "img1_data = img1.get_fdata()\n",
    "img1_flat = img1_data.flatten()\n",
    "img1_flat = img1_flat+1\n",
    "img1_flat.tolist()\n",
    "img1_flat = [int(i) for i in img1_flat]\n",
    "\n",
    "image2_name =  files[1]\n",
    "filename2 = join(mypath, image2_name)\n",
    "img2 = nib.load(filename2)\n",
    "img2_data = img2.get_fdata()\n",
    "img2_flat = img2_data.flatten()\n",
    "img2_flat = img2_flat+1\n",
    "img2_flat.tolist()\n",
    "img2_flat = [int(i) for i in img2_flat]\n"
   ]
  },
  {
   "cell_type": "code",
   "execution_count": 10,
   "metadata": {},
   "outputs": [
    {
     "name": "stdout",
     "output_type": "stream",
     "text": [
      "(98, 116, 94)\n",
      "(182, 218, 182)\n"
     ]
    }
   ],
   "source": [
    "img1 = nib.load('../Nifti_images/glasser_space-MNI152NLin6_res-1x1x1.nii.gz')\n",
    "img1_data = img1.get_fdata()\n",
    "print(img1.shape)\n",
    "\n",
    "img2 = nib.load('../Nifti_images/aal_space-MNI152NLin6_res-1x1x1.nii.gz')\n",
    "print(img2.shape)"
   ]
  }
 ],
 "metadata": {
  "kernelspec": {
   "display_name": "Python 3",
   "language": "python",
   "name": "python3"
  },
  "language_info": {
   "codemirror_mode": {
    "name": "ipython",
    "version": 3
   },
   "file_extension": ".py",
   "mimetype": "text/x-python",
   "name": "python",
   "nbconvert_exporter": "python",
   "pygments_lexer": "ipython3",
   "version": "3.6.5"
  }
 },
 "nbformat": 4,
 "nbformat_minor": 2
}

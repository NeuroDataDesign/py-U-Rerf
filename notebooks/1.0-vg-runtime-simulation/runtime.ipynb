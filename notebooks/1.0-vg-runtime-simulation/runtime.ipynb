{
 "cells": [
  {
   "cell_type": "code",
   "execution_count": 1,
   "metadata": {},
   "outputs": [],
   "source": [
    "import numpy as np\n",
    "import networkx as nx\n",
    "import os\n",
    "\n",
    "from src.data.edgelist_io import read_edgelist\n",
    "\n",
    "import matplotlib.pyplot as plt\n",
    "%matplotlib inline"
   ]
  },
  {
   "cell_type": "code",
   "execution_count": 2,
   "metadata": {},
   "outputs": [],
   "source": [
    "def estimate_phat(G):\n",
    "\n",
    "    # Get matrix\n",
    "    A = nx.to_numpy_matrix(G)\n",
    "    n = A.shape[0]\n",
    "\n",
    "    # Count upper triangular elements\n",
    "    edges = np.count_nonzero(np.triu(A))\n",
    "    num_upper = n * (n + 1) / 2\n",
    "\n",
    "    # Estimate phat\n",
    "    phat = edges / num_upper\n",
    "    return n, phat"
   ]
  },
  {
   "cell_type": "code",
   "execution_count": 3,
   "metadata": {},
   "outputs": [],
   "source": [
    "filepath='../../data/raw/hbn/'\n",
    "atlases = os.listdir(filepath)\n",
    "\n",
    "for i in ['DS72784', '.DS_Store']:\n",
    "    atlases.remove(i)"
   ]
  },
  {
   "cell_type": "code",
   "execution_count": 4,
   "metadata": {
    "scrolled": false
   },
   "outputs": [
    {
     "name": "stdout",
     "output_type": "stream",
     "text": [
      "AAL\n",
      "DS00195\n",
      "DS01216\n",
      "DS03231\n",
      "desikan\n",
      "DS00446\n",
      "DS00071\n",
      "DS00096\n",
      "JHU\n",
      "tissue\n",
      "DS00833\n",
      "DS06481\n",
      "CPAC200\n",
      "DS01876\n",
      "DS00350\n",
      "HarvardOxford\n",
      "hemispheric\n",
      "DS00108\n",
      "DS00278\n",
      "slab907\n",
      "DS16784\n",
      "Talairach\n",
      "DS00583\n",
      "DS00140\n",
      "slab1068\n"
     ]
    }
   ],
   "source": [
    "results = {}\n",
    "\n",
    "for atlas in atlases:\n",
    "    \n",
    "    print(atlas)\n",
    "    p_i = []\n",
    "    \n",
    "    filelist = os.listdir(filepath + atlas)\n",
    "    filelist = np.random.choice(filelist, 10)\n",
    "    \n",
    "    for file in filelist:\n",
    "        path = filepath + atlas + '/' + file\n",
    "        G = read_edgelist(path)\n",
    "        \n",
    "        try:\n",
    "            n, phat_i = estimate_phat(G)\n",
    "            p_i += [phat_i]\n",
    "        except:\n",
    "            pass\n",
    "\n",
    "        # Attach to dictionary\n",
    "        p_hat = np.mean(p_i)\n",
    "        results[atlas] = [n, p_hat]"
   ]
  },
  {
   "cell_type": "code",
   "execution_count": 5,
   "metadata": {},
   "outputs": [
    {
     "data": {
      "text/plain": [
       "{'AAL': [116, 0.2488211022693781],\n",
       " 'CPAC200': [200, 0.10793532338308458],\n",
       " 'DS00071': [67, 0.23755200977211133],\n",
       " 'DS00096': [94, 0.18870882636849323],\n",
       " 'DS00108': [105, 0.17864145777652543],\n",
       " 'DS00140': [4, 0.1621400889259108],\n",
       " 'DS00195': [191, 0.1264711921339997],\n",
       " 'DS00278': [266, 0.08839391178398481],\n",
       " 'DS00350': [328, 0.07377479621830248],\n",
       " 'DS00446': [425, 0.11409382255401189],\n",
       " 'DS00583': [556, 0.05230632862835817],\n",
       " 'DS00833': [793, 0.08794600279710804],\n",
       " 'DS01216': [1137, 0.030832793485224025],\n",
       " 'DS01876': [1823, 0.022833414936613634],\n",
       " 'DS03231': [2915, 0.014767666564857135],\n",
       " 'DS06481': [5973, 0.008948260188438245],\n",
       " 'DS16784': [13937, 0.0045603908578290085],\n",
       " 'HarvardOxford': [111, 0.23363051363051363],\n",
       " 'JHU': [48, 0.35008503401360547],\n",
       " 'Talairach': [1000, 0.1441827713157588],\n",
       " 'desikan': [2, 0.5308741336910351],\n",
       " 'hemispheric': [2, 1.0],\n",
       " 'slab1068': [1033, 0.01579450863219241],\n",
       " 'slab907': [861, 0.012762973060873803],\n",
       " 'tissue': [3, 0.95]}"
      ]
     },
     "execution_count": 5,
     "metadata": {},
     "output_type": "execute_result"
    }
   ],
   "source": [
    "results"
   ]
  },
  {
   "cell_type": "code",
   "execution_count": 37,
   "metadata": {},
   "outputs": [],
   "source": [
    "from timing import measure_runtime"
   ]
  },
  {
   "cell_type": "code",
   "execution_count": 38,
   "metadata": {},
   "outputs": [
    {
     "ename": "NameError",
     "evalue": "name 'RandomGraph' is not defined",
     "output_type": "error",
     "traceback": [
      "\u001b[0;31m---------------------------------------------------------------------------\u001b[0m",
      "\u001b[0;31mNameError\u001b[0m                                 Traceback (most recent call last)",
      "\u001b[0;32m<ipython-input-38-264ad7bd91a0>\u001b[0m in \u001b[0;36m<module>\u001b[0;34m()\u001b[0m\n\u001b[1;32m      3\u001b[0m \u001b[0;32mfor\u001b[0m \u001b[0matlas\u001b[0m\u001b[0;34m,\u001b[0m \u001b[0mvalue\u001b[0m \u001b[0;32min\u001b[0m \u001b[0mresults\u001b[0m\u001b[0;34m.\u001b[0m\u001b[0mitems\u001b[0m\u001b[0;34m(\u001b[0m\u001b[0;34m)\u001b[0m\u001b[0;34m:\u001b[0m\u001b[0;34m\u001b[0m\u001b[0m\n\u001b[1;32m      4\u001b[0m     \u001b[0mn\u001b[0m\u001b[0;34m,\u001b[0m \u001b[0mphat\u001b[0m \u001b[0;34m=\u001b[0m \u001b[0mvalue\u001b[0m\u001b[0;34m\u001b[0m\u001b[0m\n\u001b[0;32m----> 5\u001b[0;31m     \u001b[0mtimes\u001b[0m \u001b[0;34m=\u001b[0m \u001b[0mmeasure_runtime\u001b[0m\u001b[0;34m(\u001b[0m\u001b[0mn\u001b[0m\u001b[0;34m,\u001b[0m \u001b[0mphat\u001b[0m\u001b[0;34m)\u001b[0m\u001b[0;34m\u001b[0m\u001b[0m\n\u001b[0m\u001b[1;32m      6\u001b[0m     \u001b[0mtiming_res\u001b[0m\u001b[0;34m[\u001b[0m\u001b[0matlas\u001b[0m\u001b[0;34m]\u001b[0m \u001b[0;34m=\u001b[0m \u001b[0mtimes\u001b[0m\u001b[0;34m\u001b[0m\u001b[0m\n",
      "\u001b[0;32m~/Documents/GitHub/NDD/ents-dev/the-ents/notebooks/1.0-vg-runtime-simulation/timing.py\u001b[0m in \u001b[0;36mmeasure_runtime\u001b[0;34m(n, p, number)\u001b[0m\n\u001b[1;32m     18\u001b[0m     \"\"\"\n\u001b[1;32m     19\u001b[0m \u001b[0;34m\u001b[0m\u001b[0m\n\u001b[0;32m---> 20\u001b[0;31m     \u001b[0;31m# Initialize graph and stats class\u001b[0m\u001b[0;34m\u001b[0m\u001b[0;34m\u001b[0m\u001b[0m\n\u001b[0m\u001b[1;32m     21\u001b[0m     \u001b[0mA\u001b[0m \u001b[0;34m=\u001b[0m \u001b[0mRandomGraph\u001b[0m\u001b[0;34m(\u001b[0m\u001b[0mint\u001b[0m\u001b[0;34m(\u001b[0m\u001b[0mn\u001b[0m\u001b[0;34m)\u001b[0m\u001b[0;34m,\u001b[0m \u001b[0mp\u001b[0m\u001b[0;34m)\u001b[0m\u001b[0;34m\u001b[0m\u001b[0m\n\u001b[1;32m     22\u001b[0m     \u001b[0ms\u001b[0m \u001b[0;34m=\u001b[0m \u001b[0mStats\u001b[0m\u001b[0;34m(\u001b[0m\u001b[0mA\u001b[0m\u001b[0;34m)\u001b[0m\u001b[0;34m\u001b[0m\u001b[0m\n",
      "\u001b[0;31mNameError\u001b[0m: name 'RandomGraph' is not defined"
     ]
    }
   ],
   "source": [
    "timing_res = {}\n",
    "\n",
    "for atlas, value in results.items():\n",
    "    n, phat = value\n",
    "    times = measure_runtime(n, phat)\n",
    "    timing_res[atlas] = times"
   ]
  },
  {
   "cell_type": "code",
   "execution_count": null,
   "metadata": {},
   "outputs": [],
   "source": []
  }
 ],
 "metadata": {
  "kernelspec": {
   "display_name": "ents",
   "language": "python",
   "name": "ents"
  },
  "language_info": {
   "codemirror_mode": {
    "name": "ipython",
    "version": 3
   },
   "file_extension": ".py",
   "mimetype": "text/x-python",
   "name": "python",
   "nbconvert_exporter": "python",
   "pygments_lexer": "ipython3",
   "version": "3.6.4"
  }
 },
 "nbformat": 4,
 "nbformat_minor": 2
}

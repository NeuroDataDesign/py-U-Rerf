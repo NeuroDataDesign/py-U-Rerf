{
 "cells": [
  {
   "cell_type": "code",
   "execution_count": 1,
   "metadata": {},
   "outputs": [],
   "source": [
    "import numpy as np\n",
    "import h5py\n",
    "import networkx as nx\n",
    "import matplotlib.pyplot as plt\n",
    "from mpl_toolkits.mplot3d import Axes3D\n",
    "import pylab as pl"
   ]
  },
  {
   "cell_type": "code",
   "execution_count": null,
   "metadata": {},
   "outputs": [],
   "source": [
    "def make_matrix(filename):\n",
    "    h5f = h5py.File(filename, 'r')\n",
    "    data = h5f['data'][:]\n",
    "    patient_list = h5f['patient-list'][:]\n",
    "    h5f.close()\n",
    "    return data, patient_list"
   ]
  },
  {
   "cell_type": "markdown",
   "metadata": {},
   "source": [
    "## HNU-1 Dataset Results"
   ]
  },
  {
   "cell_type": "code",
   "execution_count": null,
   "metadata": {
    "scrolled": true
   },
   "outputs": [],
   "source": [
    "X, patients = make_matrix('../../src/data/HNU1.h5')\n",
    "\n",
    "from src.features.summary_17 import Stats\n",
    "\n",
    "data_matrix = []\n",
    "for i in X:\n",
    "    adj = np.matrix(i)\n",
    "\n",
    "    g = nx.from_numpy_matrix(adj)\n",
    "    stats = Stats(g).return_stats()\n",
    "    data_matrix.append(np.array(stats))\n",
    "\n",
    "data_matrix = np.matrix(data_matrix)"
   ]
  },
  {
   "cell_type": "code",
   "execution_count": null,
   "metadata": {},
   "outputs": [],
   "source": [
    "nx.draw_circular(g)"
   ]
  },
  {
   "cell_type": "markdown",
   "metadata": {},
   "source": [
    "Prior to projection, results appears to indicate only 2 clusters with a high silhouette score. We know that we should be seeing 30 clusters in the HNU dataset."
   ]
  },
  {
   "cell_type": "code",
   "execution_count": null,
   "metadata": {},
   "outputs": [],
   "source": [
    "from sklearn.decomposition import PCA\n",
    "from sklearn.cluster import AgglomerativeClustering\n",
    "from sklearn.metrics import silhouette_score\n",
    "from sklearn.metrics import adjusted_rand_score\n",
    "import math\n",
    "\n",
    "best_ss = []\n",
    "plt.figure()\n",
    "plt.title('Num Clusters vs. Silhouette Score (Agg, Ward), w/ N clusters')\n",
    "x = range(2,35)\n",
    "silhouettes = []\n",
    "for i in x:\n",
    "    X = data_matrix\n",
    "    clustering = AgglomerativeClustering(n_clusters=i).fit(X)\n",
    "    silhouettes.append(silhouette_score(X, clustering.labels_, metric='sqeuclidean'))\n",
    "\n",
    "plt.xlabel('# of clusters')\n",
    "plt.ylabel('Silhouette Score')\n",
    "plt.scatter(x, silhouettes)\n",
    "\n",
    "best_ss.append(max(silhouettes))\n",
    "plt.savefig('HNU_aggclust_sil_per_clust.png')\n",
    "plt.show()\n",
    "\n",
    "print('Best sillhouette score:', best_ss)\n",
    "print('Best num clusters:', [x[i] for i in range(len(silhouettes)) if silhouettes[i]==max(silhouettes)])\n"
   ]
  },
  {
   "cell_type": "code",
   "execution_count": null,
   "metadata": {},
   "outputs": [],
   "source": [
    "import seaborn as sns\n",
    "import pandas as pd\n",
    "\n",
    "# Project data\n",
    "pca = PCA(n_components=4, svd_solver='full')\n",
    "four_comp = pca.fit_transform(data_matrix)\n",
    "\n",
    "temp = []\n",
    "for i in patients:\n",
    "    temp.append(i.decode('utf-8').split('_')[0])\n",
    "\n",
    "d = {ni: indi for indi, ni in enumerate(set(temp))}\n",
    "true_labels = [d[ni] for ni in temp]\n",
    "\n",
    "data_ = {\n",
    "    'Dim1': four_comp[:, 0],\n",
    "    'Dim2': four_comp[:, 1],\n",
    "    'Dim3': four_comp[:, 2],\n",
    "    'Dim4': four_comp[:, 3],\n",
    "    'labels': true_labels\n",
    "}\n",
    "temp = pd.DataFrame(data_)\n",
    "sns.set(style=\"ticks\", color_codes=True)\n",
    "\n",
    "# Plot in pairs\n",
    "temp['species'] = true_labels\n",
    "img = sns.PairGrid(temp, hue='species', vars=['Dim1', 'Dim2', 'Dim3', 'Dim4'], palette=sns.color_palette(\"BuGn_d\"))\n",
    "img = img.map_diag(plt.hist)\n",
    "img = img.map_offdiag(plt.scatter)\n",
    "plt.suptitle('Pairs Plot of Network Feature Data Matrix (PCA w/ 4 components)')\n",
    "img.savefig('HNU_4comp_pairsplot.png')"
   ]
  },
  {
   "cell_type": "code",
   "execution_count": null,
   "metadata": {},
   "outputs": [],
   "source": [
    "# Project data\n",
    "pca = PCA(n_components=3, svd_solver='full')\n",
    "three_comp = pca.fit_transform(data_matrix)\n",
    "\n",
    "data_ = {\n",
    "    'Dim1': three_comp[:, 0],\n",
    "    'Dim2': three_comp[:, 1],\n",
    "    'Dim3': three_comp[:, 2],\n",
    "    'labels': true_labels\n",
    "}\n",
    "temp = pd.DataFrame(data_)\n",
    "sns.set(style=\"ticks\", color_codes=True)\n",
    "\n",
    "# Plot in pairs\n",
    "temp['species'] = true_labels\n",
    "img = sns.PairGrid(temp, hue='species', vars=['Dim1', 'Dim2', 'Dim3'], palette=sns.color_palette(\"GnBu_d\"))\n",
    "img = img.map_diag(plt.hist)\n",
    "img = img.map_offdiag(plt.scatter)\n",
    "plt.suptitle('Pairs Plot of Network Feature Data Matrix (PCA w/ 3 components)')\n",
    "img.savefig('HNU_3comp_pairsplot.png')"
   ]
  },
  {
   "cell_type": "markdown",
   "metadata": {},
   "source": [
    "After PCA into 2D, 2 clusters can be seen very clearly while 30 has overlapping clusters."
   ]
  },
  {
   "cell_type": "code",
   "execution_count": null,
   "metadata": {},
   "outputs": [],
   "source": [
    "# 30 clusters\n",
    "pca = PCA(n_components=2, svd_solver='full')\n",
    "X = pca.fit_transform(data_matrix)\n",
    "aggclust = AgglomerativeClustering(n_clusters=30).fit(X)\n",
    "# print(clustering.labels_)\n",
    "print(silhouette_score(X, aggclust.labels_, metric='sqeuclidean'))\n",
    "\n",
    "plt.figure()\n",
    "plt.title(\"Agglomerative Ward-Linked Clustering Results on PCA 2D (30 clusters)\")\n",
    "plt.xlabel(\"Eigenvalue 1\")\n",
    "plt.ylabel(\"Eigenvalue 2\")\n",
    "plt.scatter(X[:, 0], X[:, 1], c=aggclust.labels_,cmap=plt.cm.jet)\n",
    "plt.savefig('HNU_aggclust_30clust_pca2d.png')\n",
    "plt.show()\n",
    "\n",
    "# 2 clusters\n",
    "pca = PCA(n_components=2, svd_solver='full')\n",
    "X = pca.fit_transform(data_matrix)\n",
    "aggclust = AgglomerativeClustering(n_clusters=2).fit(X)\n",
    "# print(clustering.labels_)\n",
    "print(silhouette_score(X, aggclust.labels_, metric='sqeuclidean'))\n",
    "\n",
    "plt.figure()\n",
    "plt.title(\"Agglomerative Ward-Linked Clustering Results on PCA 2D (2 clusters)\")\n",
    "plt.xlabel(\"Eigenvalue 1\")\n",
    "plt.ylabel(\"Eigenvalue 2\")\n",
    "plt.scatter(X[:, 0], X[:, 1], c=aggclust.labels_,cmap=plt.cm.jet)\n",
    "plt.savefig('HNU_aggclust_2clust_pca2d.png')\n",
    "plt.show()"
   ]
  },
  {
   "cell_type": "code",
   "execution_count": null,
   "metadata": {},
   "outputs": [],
   "source": [
    "# Computing ARI score for N clusters, no PCA\n",
    "from sklearn.metrics import adjusted_rand_score\n",
    "\n",
    "best_ari = []\n",
    "best_bic = []\n",
    "x = range(2,35)\n",
    "aris = []\n",
    "bics = []\n",
    "n = np.shape(data_matrix)[0]\n",
    "k = np.shape(data_matrix)[1]\n",
    "for i in x:\n",
    "    clustering = AgglomerativeClustering(n_clusters=i).fit(data_matrix)\n",
    "    aris.append(adjusted_rand_score(true_labels, clustering.labels_))\n",
    "    resid = true_labels - clustering.labels_\n",
    "    sse = sum(resid**2)\n",
    "    bics.append(n * np.log(sse/n) + k*np.log(n))\n",
    "\n",
    "# Plotting ARI\n",
    "plt.figure()\n",
    "plt.title('Num Clusters vs. ARI (Agg, Ward), w/ N clusters')\n",
    "plt.xlabel('# of clusters')\n",
    "plt.ylabel('ARI')\n",
    "plt.scatter(x, aris)\n",
    "\n",
    "best_ari.append(max(aris))\n",
    "plt.savefig('HNU_aggclust_ari_per_clust.png')\n",
    "plt.show()\n",
    "\n",
    "# Results summary\n",
    "print('Best ARI:', best_ari)\n",
    "print('Best num clusters:', [x[i] for i in range(len(aris)) if aris[i]==max(aris)])\n",
    "\n",
    "# Plotting BIC\n",
    "plt.figure()\n",
    "plt.title('Num Clusters vs. BIC (Agg, Ward), w/ N clusters')\n",
    "plt.xlabel('# of clusters')\n",
    "plt.ylabel('BIC')\n",
    "plt.scatter(x, bics)\n",
    "\n",
    "best_bic.append(min(bics))\n",
    "plt.savefig('HNU_aggclust_bic_per_clust.png')\n",
    "plt.show()\n",
    "\n",
    "# Results summary\n",
    "print('Best BIC:', best_bic)\n",
    "print('Best num clusters:', [x[i] for i in range(len(bics)) if bics[i]==min(bics)])\n"
   ]
  }
 ],
 "metadata": {
  "kernelspec": {
   "display_name": "Python 3",
   "language": "python",
   "name": "python3"
  },
  "language_info": {
   "codemirror_mode": {
    "name": "ipython",
    "version": 3
   },
   "file_extension": ".py",
   "mimetype": "text/x-python",
   "name": "python",
   "nbconvert_exporter": "python",
   "pygments_lexer": "ipython3",
   "version": "3.6.6"
  }
 },
 "nbformat": 4,
 "nbformat_minor": 2
}
